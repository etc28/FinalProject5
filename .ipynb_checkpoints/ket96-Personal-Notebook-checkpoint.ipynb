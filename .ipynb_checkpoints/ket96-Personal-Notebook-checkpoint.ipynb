{
 "cells": [
  {
   "cell_type": "markdown",
   "metadata": {},
   "source": [
    "# Number of COVID-19 Vaccinations by Neighborhood"
   ]
  },
  {
   "cell_type": "markdown",
   "metadata": {},
   "source": [
    " ## by Kate Towsen"
   ]
  },
  {
   "cell_type": "markdown",
   "metadata": {},
   "source": [
    "Dataset: <a href=\"https://data.wprdc.org/datastore/dump/b1c946bb-1c25-4ae2-9ac0-93301a77978e\" target=\" _blank\">Allegheny County COVID-19 Vaccine Historical Municipal Data</a>"
   ]
  },
  {
   "cell_type": "markdown",
   "metadata": {},
   "source": [
    "## Introduction"
   ]
  },
  {
   "cell_type": "markdown",
   "metadata": {},
   "source": [
    "To find the best neighborhood in Pittsburgh, we look at which neighborhood is the healthiest. One way in which we gauge which neighborhood is the healthiest is by looking at the number of vaccinations reported in each neighborhood. The more vaccinated individuals a neighborhood has, they should be more protected against COVID-19. So, the health (in relation to COVID-19) of the neighborhood will be calculated by the total number of vaccinations. The higher the total number of vaccinations, the healthier the neighborhood. The total number of vaccinations is calculated by adding up the data for partial vaccinations, full vaccinations, and full vaccinations with boosters. "
   ]
  },
  {
   "cell_type": "markdown",
   "metadata": {},
   "source": [
    "![The city of Pittsburgh](https://media.bizj.us/view/img/11693826/pittsburgh-general-imagery-0011*400xx1500-1037-282-275.jpg)"
   ]
  },
  {
   "cell_type": "markdown",
   "metadata": {},
   "source": [
    "## The Metric"
   ]
  },
  {
   "cell_type": "markdown",
   "metadata": {},
   "source": [
    "Lets find the healthiest neighborhood by looking at the total number of COVID-19 Vaccinations! Total number of vaccinations will be calculated by adding up the number of partial, full, and boosted vaccinated individuals for each neighborhood. Addtionally, as the dataset includes all of Allegheny County, non-Pittsburgh neighborhoods will not count towards the healthiest neighborhood."
   ]
  },
  {
   "cell_type": "markdown",
   "metadata": {},
   "source": [
    "First, lets import all of the needed libraries."
   ]
  },
  {
   "cell_type": "code",
   "execution_count": 2,
   "metadata": {},
   "outputs": [],
   "source": [
    "import pandas as pd\n",
    "import numpy as np\n",
    "%matplotlib inline\n",
    "import matplotlib.pyplot as plt"
   ]
  },
  {
   "cell_type": "markdown",
   "metadata": {},
   "source": [
    "Next, let's load in the vaccination data for neighborhoods in Allegheny County."
   ]
  },
  {
   "cell_type": "code",
   "execution_count": 3,
   "metadata": {},
   "outputs": [
    {
     "data": {
      "text/html": [
       "<div>\n",
       "<style scoped>\n",
       "    .dataframe tbody tr th:only-of-type {\n",
       "        vertical-align: middle;\n",
       "    }\n",
       "\n",
       "    .dataframe tbody tr th {\n",
       "        vertical-align: top;\n",
       "    }\n",
       "\n",
       "    .dataframe thead th {\n",
       "        text-align: right;\n",
       "    }\n",
       "</style>\n",
       "<table border=\"1\" class=\"dataframe\">\n",
       "  <thead>\n",
       "    <tr style=\"text-align: right;\">\n",
       "      <th></th>\n",
       "      <th>month</th>\n",
       "      <th>neighborhood_municipality</th>\n",
       "      <th>total_partially_vaccinated</th>\n",
       "      <th>total_fully_vaccinated</th>\n",
       "      <th>total_fully_vaccinated_w_booster</th>\n",
       "    </tr>\n",
       "  </thead>\n",
       "  <tbody>\n",
       "    <tr>\n",
       "      <th>3582</th>\n",
       "      <td>2022-04-01</td>\n",
       "      <td>Liberty</td>\n",
       "      <td>7</td>\n",
       "      <td>13</td>\n",
       "      <td>12</td>\n",
       "    </tr>\n",
       "    <tr>\n",
       "      <th>3108</th>\n",
       "      <td>2021-12-01</td>\n",
       "      <td>Central Business District (Pittsburgh)</td>\n",
       "      <td>269</td>\n",
       "      <td>62</td>\n",
       "      <td>450</td>\n",
       "    </tr>\n",
       "    <tr>\n",
       "      <th>3049</th>\n",
       "      <td>2021-11-01</td>\n",
       "      <td>Blawnox</td>\n",
       "      <td>52</td>\n",
       "      <td>11</td>\n",
       "      <td>180</td>\n",
       "    </tr>\n",
       "    <tr>\n",
       "      <th>2344</th>\n",
       "      <td>2022-09-01</td>\n",
       "      <td>Polish Hill (Pittsburgh)</td>\n",
       "      <td>1</td>\n",
       "      <td>1</td>\n",
       "      <td>0</td>\n",
       "    </tr>\n",
       "    <tr>\n",
       "      <th>1645</th>\n",
       "      <td>2021-09-01</td>\n",
       "      <td>Wall</td>\n",
       "      <td>10</td>\n",
       "      <td>9</td>\n",
       "      <td>5</td>\n",
       "    </tr>\n",
       "  </tbody>\n",
       "</table>\n",
       "</div>"
      ],
      "text/plain": [
       "           month               neighborhood_municipality  \\\n",
       "3582  2022-04-01                                 Liberty   \n",
       "3108  2021-12-01  Central Business District (Pittsburgh)   \n",
       "3049  2021-11-01                                 Blawnox   \n",
       "2344  2022-09-01                Polish Hill (Pittsburgh)   \n",
       "1645  2021-09-01                                    Wall   \n",
       "\n",
       "      total_partially_vaccinated  total_fully_vaccinated  \\\n",
       "3582                           7                      13   \n",
       "3108                         269                      62   \n",
       "3049                          52                      11   \n",
       "2344                           1                       1   \n",
       "1645                          10                       9   \n",
       "\n",
       "      total_fully_vaccinated_w_booster  \n",
       "3582                                12  \n",
       "3108                               450  \n",
       "3049                               180  \n",
       "2344                                 0  \n",
       "1645                                 5  "
      ]
     },
     "execution_count": 3,
     "metadata": {},
     "output_type": "execute_result"
    }
   ],
   "source": [
    "covid_data = pd.read_csv('https://data.wprdc.org/datastore/dump/b1c946bb-1c25-4ae2-9ac0-93301a77978e')\n",
    "covid_data.sample(5)"
   ]
  },
  {
   "cell_type": "markdown",
   "metadata": {},
   "source": [
    "We see that the datset includes the month, neighborhood, number of partial vaccinations, full vaccinations, and full vaccinations with boosters. Let's make a copy of the data so that we can sum the vaccination columns and create a new total vaccinations column."
   ]
  },
  {
   "cell_type": "code",
   "execution_count": 4,
   "metadata": {},
   "outputs": [
    {
     "data": {
      "text/html": [
       "<div>\n",
       "<style scoped>\n",
       "    .dataframe tbody tr th:only-of-type {\n",
       "        vertical-align: middle;\n",
       "    }\n",
       "\n",
       "    .dataframe tbody tr th {\n",
       "        vertical-align: top;\n",
       "    }\n",
       "\n",
       "    .dataframe thead th {\n",
       "        text-align: right;\n",
       "    }\n",
       "</style>\n",
       "<table border=\"1\" class=\"dataframe\">\n",
       "  <thead>\n",
       "    <tr style=\"text-align: right;\">\n",
       "      <th></th>\n",
       "      <th>month</th>\n",
       "      <th>neighborhood_municipality</th>\n",
       "      <th>total_partially_vaccinated</th>\n",
       "      <th>total_fully_vaccinated</th>\n",
       "      <th>total_fully_vaccinated_w_booster</th>\n",
       "      <th>total_vaccinations</th>\n",
       "    </tr>\n",
       "  </thead>\n",
       "  <tbody>\n",
       "    <tr>\n",
       "      <th>0</th>\n",
       "      <td>2020-12-01</td>\n",
       "      <td>East Liberty (Pittsburgh)</td>\n",
       "      <td>174</td>\n",
       "      <td>1</td>\n",
       "      <td>0</td>\n",
       "      <td>175</td>\n",
       "    </tr>\n",
       "    <tr>\n",
       "      <th>1</th>\n",
       "      <td>2020-12-01</td>\n",
       "      <td>Greenfield (Pittsburgh)</td>\n",
       "      <td>214</td>\n",
       "      <td>1</td>\n",
       "      <td>0</td>\n",
       "      <td>215</td>\n",
       "    </tr>\n",
       "    <tr>\n",
       "      <th>2</th>\n",
       "      <td>2020-12-01</td>\n",
       "      <td>Morningside (Pittsburgh)</td>\n",
       "      <td>105</td>\n",
       "      <td>1</td>\n",
       "      <td>0</td>\n",
       "      <td>106</td>\n",
       "    </tr>\n",
       "    <tr>\n",
       "      <th>3</th>\n",
       "      <td>2020-12-01</td>\n",
       "      <td>Richland</td>\n",
       "      <td>212</td>\n",
       "      <td>1</td>\n",
       "      <td>0</td>\n",
       "      <td>213</td>\n",
       "    </tr>\n",
       "    <tr>\n",
       "      <th>4</th>\n",
       "      <td>2020-12-01</td>\n",
       "      <td>South Oakland (Pittsburgh)</td>\n",
       "      <td>57</td>\n",
       "      <td>1</td>\n",
       "      <td>0</td>\n",
       "      <td>58</td>\n",
       "    </tr>\n",
       "  </tbody>\n",
       "</table>\n",
       "</div>"
      ],
      "text/plain": [
       "        month   neighborhood_municipality  total_partially_vaccinated  \\\n",
       "0  2020-12-01   East Liberty (Pittsburgh)                         174   \n",
       "1  2020-12-01     Greenfield (Pittsburgh)                         214   \n",
       "2  2020-12-01    Morningside (Pittsburgh)                         105   \n",
       "3  2020-12-01                    Richland                         212   \n",
       "4  2020-12-01  South Oakland (Pittsburgh)                          57   \n",
       "\n",
       "   total_fully_vaccinated  total_fully_vaccinated_w_booster  \\\n",
       "0                       1                                 0   \n",
       "1                       1                                 0   \n",
       "2                       1                                 0   \n",
       "3                       1                                 0   \n",
       "4                       1                                 0   \n",
       "\n",
       "   total_vaccinations  \n",
       "0                 175  \n",
       "1                 215  \n",
       "2                 106  \n",
       "3                 213  \n",
       "4                  58  "
      ]
     },
     "execution_count": 4,
     "metadata": {},
     "output_type": "execute_result"
    }
   ],
   "source": [
    "covidcopy= covid_data.copy()\n",
    "covidcopy['total_vaccinations']= covidcopy[\"total_partially_vaccinated\"] + covidcopy[\"total_fully_vaccinated\"] +  covidcopy[\"total_fully_vaccinated_w_booster\"]\n",
    "covidcopy.head()"
   ]
  },
  {
   "cell_type": "markdown",
   "metadata": {},
   "source": [
    "Now we have the total vaccinations calculated for each neighborhood in Allegheny County. "
   ]
  },
  {
   "cell_type": "markdown",
   "metadata": {},
   "source": [
    "Next, we need to get the data for just the Pittsburgh neighborhoods. This dataset was organized such that if the neighborhood is located in Pittsburgh, Pittsburgh is written following the neighborhood name in parenthesis. We need to iterate through the rows in the dataframe using `.iterrows()` to filter out the data for neighborhoods outside of Pittsburgh."
   ]
  },
  {
   "cell_type": "code",
   "execution_count": 5,
   "metadata": {},
   "outputs": [
    {
     "data": {
      "text/html": [
       "<div>\n",
       "<style scoped>\n",
       "    .dataframe tbody tr th:only-of-type {\n",
       "        vertical-align: middle;\n",
       "    }\n",
       "\n",
       "    .dataframe tbody tr th {\n",
       "        vertical-align: top;\n",
       "    }\n",
       "\n",
       "    .dataframe thead th {\n",
       "        text-align: right;\n",
       "    }\n",
       "</style>\n",
       "<table border=\"1\" class=\"dataframe\">\n",
       "  <thead>\n",
       "    <tr style=\"text-align: right;\">\n",
       "      <th></th>\n",
       "      <th>month</th>\n",
       "      <th>neighborhood_municipality</th>\n",
       "      <th>total_partially_vaccinated</th>\n",
       "      <th>total_fully_vaccinated</th>\n",
       "      <th>total_fully_vaccinated_w_booster</th>\n",
       "      <th>total_vaccinations</th>\n",
       "    </tr>\n",
       "  </thead>\n",
       "  <tbody>\n",
       "    <tr>\n",
       "      <th>0</th>\n",
       "      <td>2020-12-01</td>\n",
       "      <td>East Liberty (Pittsburgh)</td>\n",
       "      <td>174</td>\n",
       "      <td>1</td>\n",
       "      <td>0</td>\n",
       "      <td>175</td>\n",
       "    </tr>\n",
       "    <tr>\n",
       "      <th>1</th>\n",
       "      <td>2020-12-01</td>\n",
       "      <td>Greenfield (Pittsburgh)</td>\n",
       "      <td>214</td>\n",
       "      <td>1</td>\n",
       "      <td>0</td>\n",
       "      <td>215</td>\n",
       "    </tr>\n",
       "    <tr>\n",
       "      <th>2</th>\n",
       "      <td>2020-12-01</td>\n",
       "      <td>Morningside (Pittsburgh)</td>\n",
       "      <td>105</td>\n",
       "      <td>1</td>\n",
       "      <td>0</td>\n",
       "      <td>106</td>\n",
       "    </tr>\n",
       "    <tr>\n",
       "      <th>4</th>\n",
       "      <td>2020-12-01</td>\n",
       "      <td>South Oakland (Pittsburgh)</td>\n",
       "      <td>57</td>\n",
       "      <td>1</td>\n",
       "      <td>0</td>\n",
       "      <td>58</td>\n",
       "    </tr>\n",
       "    <tr>\n",
       "      <th>7</th>\n",
       "      <td>2021-01-01</td>\n",
       "      <td>Beechview (Pittsburgh)</td>\n",
       "      <td>388</td>\n",
       "      <td>147</td>\n",
       "      <td>0</td>\n",
       "      <td>535</td>\n",
       "    </tr>\n",
       "    <tr>\n",
       "      <th>...</th>\n",
       "      <td>...</td>\n",
       "      <td>...</td>\n",
       "      <td>...</td>\n",
       "      <td>...</td>\n",
       "      <td>...</td>\n",
       "      <td>...</td>\n",
       "    </tr>\n",
       "    <tr>\n",
       "      <th>4642</th>\n",
       "      <td>2022-09-01</td>\n",
       "      <td>Marshall-Shadeland (Pittsburgh)</td>\n",
       "      <td>11</td>\n",
       "      <td>10</td>\n",
       "      <td>6</td>\n",
       "      <td>27</td>\n",
       "    </tr>\n",
       "    <tr>\n",
       "      <th>4643</th>\n",
       "      <td>2022-09-01</td>\n",
       "      <td>Northview Heights (Pittsburgh)</td>\n",
       "      <td>11</td>\n",
       "      <td>2</td>\n",
       "      <td>0</td>\n",
       "      <td>13</td>\n",
       "    </tr>\n",
       "    <tr>\n",
       "      <th>4648</th>\n",
       "      <td>2022-09-01</td>\n",
       "      <td>Point Breeze (Pittsburgh)</td>\n",
       "      <td>1</td>\n",
       "      <td>3</td>\n",
       "      <td>0</td>\n",
       "      <td>4</td>\n",
       "    </tr>\n",
       "    <tr>\n",
       "      <th>4652</th>\n",
       "      <td>2022-09-01</td>\n",
       "      <td>Squirrel Hill North (Pittsburgh)</td>\n",
       "      <td>17</td>\n",
       "      <td>9</td>\n",
       "      <td>9</td>\n",
       "      <td>35</td>\n",
       "    </tr>\n",
       "    <tr>\n",
       "      <th>4653</th>\n",
       "      <td>2022-09-01</td>\n",
       "      <td>Strip District (Pittsburgh)</td>\n",
       "      <td>1</td>\n",
       "      <td>1</td>\n",
       "      <td>0</td>\n",
       "      <td>2</td>\n",
       "    </tr>\n",
       "  </tbody>\n",
       "</table>\n",
       "<p>1918 rows × 6 columns</p>\n",
       "</div>"
      ],
      "text/plain": [
       "           month         neighborhood_municipality  \\\n",
       "0     2020-12-01         East Liberty (Pittsburgh)   \n",
       "1     2020-12-01           Greenfield (Pittsburgh)   \n",
       "2     2020-12-01          Morningside (Pittsburgh)   \n",
       "4     2020-12-01        South Oakland (Pittsburgh)   \n",
       "7     2021-01-01            Beechview (Pittsburgh)   \n",
       "...          ...                               ...   \n",
       "4642  2022-09-01   Marshall-Shadeland (Pittsburgh)   \n",
       "4643  2022-09-01    Northview Heights (Pittsburgh)   \n",
       "4648  2022-09-01         Point Breeze (Pittsburgh)   \n",
       "4652  2022-09-01  Squirrel Hill North (Pittsburgh)   \n",
       "4653  2022-09-01       Strip District (Pittsburgh)   \n",
       "\n",
       "      total_partially_vaccinated  total_fully_vaccinated  \\\n",
       "0                            174                       1   \n",
       "1                            214                       1   \n",
       "2                            105                       1   \n",
       "4                             57                       1   \n",
       "7                            388                     147   \n",
       "...                          ...                     ...   \n",
       "4642                          11                      10   \n",
       "4643                          11                       2   \n",
       "4648                           1                       3   \n",
       "4652                          17                       9   \n",
       "4653                           1                       1   \n",
       "\n",
       "      total_fully_vaccinated_w_booster  total_vaccinations  \n",
       "0                                    0                 175  \n",
       "1                                    0                 215  \n",
       "2                                    0                 106  \n",
       "4                                    0                  58  \n",
       "7                                    0                 535  \n",
       "...                                ...                 ...  \n",
       "4642                                 6                  27  \n",
       "4643                                 0                  13  \n",
       "4648                                 0                   4  \n",
       "4652                                 9                  35  \n",
       "4653                                 0                   2  \n",
       "\n",
       "[1918 rows x 6 columns]"
      ]
     },
     "execution_count": 5,
     "metadata": {},
     "output_type": "execute_result"
    }
   ],
   "source": [
    "clist= []\n",
    "for index, row in covidcopy.iterrows():\n",
    "    if '(Pittsburgh)' in row ['neighborhood_municipality']:\n",
    "        clist.append(row)\n",
    "burgh_covid= pd.DataFrame(clist)\n",
    "burgh_covid"
   ]
  },
  {
   "cell_type": "markdown",
   "metadata": {},
   "source": [
    "Now we have filtered out any rows that do not contain the string `(Pittsburgh)` within the **neighborhood_municipality** column."
   ]
  },
  {
   "cell_type": "markdown",
   "metadata": {},
   "source": [
    "Now we can look at COVID-19 Vaccine Historical Municipal Data and vaccination totals for the city of Pittsburgh instead of the entire county."
   ]
  },
  {
   "cell_type": "markdown",
   "metadata": {},
   "source": [
    "## The Best Neighborhood (Healthiest)"
   ]
  },
  {
   "cell_type": "markdown",
   "metadata": {},
   "source": [
    "To assess which neighborhood is the healthiest, lets clean up the data. Let's focus on the neighborhood and total vaccinations by dropping unecissary columns using `.dropna()` and adding up multiple entries for each neighborhood with the `.groupby([]).sum()` method."
   ]
  },
  {
   "cell_type": "code",
   "execution_count": 6,
   "metadata": {},
   "outputs": [
    {
     "data": {
      "text/html": [
       "<div>\n",
       "<style scoped>\n",
       "    .dataframe tbody tr th:only-of-type {\n",
       "        vertical-align: middle;\n",
       "    }\n",
       "\n",
       "    .dataframe tbody tr th {\n",
       "        vertical-align: top;\n",
       "    }\n",
       "\n",
       "    .dataframe thead th {\n",
       "        text-align: right;\n",
       "    }\n",
       "</style>\n",
       "<table border=\"1\" class=\"dataframe\">\n",
       "  <thead>\n",
       "    <tr style=\"text-align: right;\">\n",
       "      <th></th>\n",
       "      <th>total_vaccinations</th>\n",
       "    </tr>\n",
       "    <tr>\n",
       "      <th>neighborhood_municipality</th>\n",
       "      <th></th>\n",
       "    </tr>\n",
       "  </thead>\n",
       "  <tbody>\n",
       "    <tr>\n",
       "      <th>Allegheny Center (Pittsburgh)</th>\n",
       "      <td>2439</td>\n",
       "    </tr>\n",
       "    <tr>\n",
       "      <th>Allegheny West (Pittsburgh)</th>\n",
       "      <td>994</td>\n",
       "    </tr>\n",
       "    <tr>\n",
       "      <th>Allentown (Pittsburgh)</th>\n",
       "      <td>3095</td>\n",
       "    </tr>\n",
       "    <tr>\n",
       "      <th>Arlington (Pittsburgh)</th>\n",
       "      <td>2350</td>\n",
       "    </tr>\n",
       "    <tr>\n",
       "      <th>Arlington Heights (Pittsburgh)</th>\n",
       "      <td>210</td>\n",
       "    </tr>\n",
       "    <tr>\n",
       "      <th>...</th>\n",
       "      <td>...</td>\n",
       "    </tr>\n",
       "    <tr>\n",
       "      <th>Upper Lawrenceville (Pittsburgh)</th>\n",
       "      <td>4784</td>\n",
       "    </tr>\n",
       "    <tr>\n",
       "      <th>West End (Pittsburgh)</th>\n",
       "      <td>340</td>\n",
       "    </tr>\n",
       "    <tr>\n",
       "      <th>West Oakland (Pittsburgh)</th>\n",
       "      <td>2322</td>\n",
       "    </tr>\n",
       "    <tr>\n",
       "      <th>Westwood (Pittsburgh)</th>\n",
       "      <td>5718</td>\n",
       "    </tr>\n",
       "    <tr>\n",
       "      <th>Windgap (Pittsburgh)</th>\n",
       "      <td>2281</td>\n",
       "    </tr>\n",
       "  </tbody>\n",
       "</table>\n",
       "<p>91 rows × 1 columns</p>\n",
       "</div>"
      ],
      "text/plain": [
       "                                  total_vaccinations\n",
       "neighborhood_municipality                           \n",
       "Allegheny Center (Pittsburgh)                   2439\n",
       "Allegheny West (Pittsburgh)                      994\n",
       "Allentown (Pittsburgh)                          3095\n",
       "Arlington (Pittsburgh)                          2350\n",
       "Arlington Heights (Pittsburgh)                   210\n",
       "...                                              ...\n",
       "Upper Lawrenceville (Pittsburgh)                4784\n",
       "West End (Pittsburgh)                            340\n",
       "West Oakland (Pittsburgh)                       2322\n",
       "Westwood (Pittsburgh)                           5718\n",
       "Windgap (Pittsburgh)                            2281\n",
       "\n",
       "[91 rows x 1 columns]"
      ]
     },
     "execution_count": 6,
     "metadata": {},
     "output_type": "execute_result"
    }
   ],
   "source": [
    "keep = burgh_covid[['neighborhood_municipality', 'total_vaccinations']]\n",
    "drop_col = keep.dropna()\n",
    "total_vax = drop_col.groupby(['neighborhood_municipality']).sum()\n",
    "total_vax"
   ]
  },
  {
   "cell_type": "markdown",
   "metadata": {},
   "source": [
    "Here we can see that we grouped the 1918 rows of total vaccination data by the 91 unique Pittsburgh neighborhoods through summing all repeat total vaccination entries for a neighborhood."
   ]
  },
  {
   "cell_type": "markdown",
   "metadata": {},
   "source": [
    "Next, lets further filter this dataframe by looking only at neighborhoods with over 10,000 total vaccinations using the `def filt(x, threshold):` function. "
   ]
  },
  {
   "cell_type": "code",
   "execution_count": 7,
   "metadata": {},
   "outputs": [
    {
     "data": {
      "text/html": [
       "<div>\n",
       "<style scoped>\n",
       "    .dataframe tbody tr th:only-of-type {\n",
       "        vertical-align: middle;\n",
       "    }\n",
       "\n",
       "    .dataframe tbody tr th {\n",
       "        vertical-align: top;\n",
       "    }\n",
       "\n",
       "    .dataframe thead th {\n",
       "        text-align: right;\n",
       "    }\n",
       "</style>\n",
       "<table border=\"1\" class=\"dataframe\">\n",
       "  <thead>\n",
       "    <tr style=\"text-align: right;\">\n",
       "      <th></th>\n",
       "      <th>total_vaccinations</th>\n",
       "    </tr>\n",
       "    <tr>\n",
       "      <th>neighborhood_municipality</th>\n",
       "      <th></th>\n",
       "    </tr>\n",
       "  </thead>\n",
       "  <tbody>\n",
       "    <tr>\n",
       "      <th>Squirrel Hill South (Pittsburgh)</th>\n",
       "      <td>33720</td>\n",
       "    </tr>\n",
       "    <tr>\n",
       "      <th>Shadyside (Pittsburgh)</th>\n",
       "      <td>30266</td>\n",
       "    </tr>\n",
       "    <tr>\n",
       "      <th>Brookline (Pittsburgh)</th>\n",
       "      <td>22870</td>\n",
       "    </tr>\n",
       "    <tr>\n",
       "      <th>Squirrel Hill North (Pittsburgh)</th>\n",
       "      <td>20179</td>\n",
       "    </tr>\n",
       "    <tr>\n",
       "      <th>Bloomfield (Pittsburgh)</th>\n",
       "      <td>17087</td>\n",
       "    </tr>\n",
       "    <tr>\n",
       "      <th>Carrick (Pittsburgh)</th>\n",
       "      <td>15075</td>\n",
       "    </tr>\n",
       "    <tr>\n",
       "      <th>Greenfield (Pittsburgh)</th>\n",
       "      <td>14362</td>\n",
       "    </tr>\n",
       "    <tr>\n",
       "      <th>Mount Washington (Pittsburgh)</th>\n",
       "      <td>14050</td>\n",
       "    </tr>\n",
       "    <tr>\n",
       "      <th>Highland Park (Pittsburgh)</th>\n",
       "      <td>13884</td>\n",
       "    </tr>\n",
       "    <tr>\n",
       "      <th>Southside Flats (Pittsburgh)</th>\n",
       "      <td>13346</td>\n",
       "    </tr>\n",
       "    <tr>\n",
       "      <th>Beechview (Pittsburgh)</th>\n",
       "      <td>12611</td>\n",
       "    </tr>\n",
       "    <tr>\n",
       "      <th>Point Breeze (Pittsburgh)</th>\n",
       "      <td>12442</td>\n",
       "    </tr>\n",
       "    <tr>\n",
       "      <th>North Oakland (Pittsburgh)</th>\n",
       "      <td>12166</td>\n",
       "    </tr>\n",
       "    <tr>\n",
       "      <th>Brighton Heights (Pittsburgh)</th>\n",
       "      <td>11822</td>\n",
       "    </tr>\n",
       "    <tr>\n",
       "      <th>East Liberty (Pittsburgh)</th>\n",
       "      <td>10443</td>\n",
       "    </tr>\n",
       "  </tbody>\n",
       "</table>\n",
       "</div>"
      ],
      "text/plain": [
       "                                  total_vaccinations\n",
       "neighborhood_municipality                           \n",
       "Squirrel Hill South (Pittsburgh)               33720\n",
       "Shadyside (Pittsburgh)                         30266\n",
       "Brookline (Pittsburgh)                         22870\n",
       "Squirrel Hill North (Pittsburgh)               20179\n",
       "Bloomfield (Pittsburgh)                        17087\n",
       "Carrick (Pittsburgh)                           15075\n",
       "Greenfield (Pittsburgh)                        14362\n",
       "Mount Washington (Pittsburgh)                  14050\n",
       "Highland Park (Pittsburgh)                     13884\n",
       "Southside Flats (Pittsburgh)                   13346\n",
       "Beechview (Pittsburgh)                         12611\n",
       "Point Breeze (Pittsburgh)                      12442\n",
       "North Oakland (Pittsburgh)                     12166\n",
       "Brighton Heights (Pittsburgh)                  11822\n",
       "East Liberty (Pittsburgh)                      10443"
      ]
     },
     "execution_count": 7,
     "metadata": {},
     "output_type": "execute_result"
    }
   ],
   "source": [
    "def filt(x, threshold):\n",
    "    return x[\"total_vaccinations\"].sum() > threshold\n",
    "high_vax= total_vax.groupby(\"neighborhood_municipality\").filter(filt, threshold= 10000)\n",
    "high_vax.groupby(\"neighborhood_municipality\").sum()\n",
    "sorted_vax= high_vax.sort_values(by=['total_vaccinations'],ascending=False)\n",
    "sorted_vax"
   ]
  },
  {
   "cell_type": "markdown",
   "metadata": {},
   "source": [
    "Here we have the 15 neighborhoods with over 10,000 total vaccinations. To make plotting more organized, this dataframe is sorted in acsending order using `.sort_values()`. The top 3 neighborhoods with the most total vaccinations are Squirrel Hill South, Shadyside, and Brookline."
   ]
  },
  {
   "cell_type": "markdown",
   "metadata": {},
   "source": [
    "Lets plot this data so that we can better visualize the healthiest neighborhood. Here is a graph looking at the top 15 neighborhoods by total_vaccinations."
   ]
  },
  {
   "cell_type": "code",
   "execution_count": 9,
   "metadata": {},
   "outputs": [
    {
     "data": {
      "image/png": "[encoded data removed]",
      "text/plain": [
       "<Figure size 576x396 with 1 Axes>"
      ]
     },
     "metadata": {},
     "output_type": "display_data"
    }
   ],
   "source": [
    "sorted_vax.plot(kind=\"bar\")\n",
    "plt.title(\"Top 15 Vaccinated Neighborhoods\")\n",
    "plt.xlabel(\"Pittsburgh Neighborhood\")\n",
    "plt.ylabel(\"Number of Vaccinations\")\n",
    "plt.style.use('seaborn')"
   ]
  },
  {
   "cell_type": "markdown",
   "metadata": {},
   "source": [
    "The top three vaccinated neighborhoods are:\n",
    "1. Squirrel Hill South\n",
    "2. Shadyside\n",
    "3. Brookline "
   ]
  },
  {
   "cell_type": "markdown",
   "metadata": {},
   "source": [
    "For a little more detail, let's plot a breakdown of these total vaccination results. Let's look at the number of partial vaccinations, full vaccinations, and booster vaccinations that make up the total number of vaccinations for each neighborhood."
   ]
  },
  {
   "cell_type": "code",
   "execution_count": 10,
   "metadata": {},
   "outputs": [],
   "source": [
    "total_stack = burgh_covid.groupby(['neighborhood_municipality']).sum()\n",
    "def filt(x, threshold):\n",
    "    return x[\"total_vaccinations\"].sum() > threshold\n",
    "high_stack= total_stack.groupby(\"neighborhood_municipality\").filter(filt, threshold= 10000)\n",
    "high_stack.groupby(\"neighborhood_municipality\").sum()\n",
    "sorted_stack= high_stack.sort_values(by=['total_vaccinations'],ascending=False)\n",
    "graph_stack= sorted_stack.loc[:, ~sorted_stack.columns.isin(['total_vaccinations'])]"
   ]
  },
  {
   "cell_type": "code",
   "execution_count": 11,
   "metadata": {},
   "outputs": [
    {
     "data": {
      "image/png": "[encoded data removed]",
      "text/plain": [
       "<Figure size 576x396 with 1 Axes>"
      ]
     },
     "metadata": {},
     "output_type": "display_data"
    }
   ],
   "source": [
    "graph_stack.plot.bar(stacked=True)\n",
    "plt.title(\"Top 15 Vaccinated Neighborhoods\")\n",
    "plt.xlabel(\"Pittsburgh Neighborhood\")\n",
    "plt.ylabel(\"Number of Vaccinations\")\n",
    "plt.style.use('seaborn')"
   ]
  },
  {
   "cell_type": "markdown",
   "metadata": {},
   "source": [
    "## Squirrel Hill South is the Best Neighborhood!"
   ]
  },
  {
   "cell_type": "markdown",
   "metadata": {},
   "source": [
    "Our measure of \"bestness\" was which neighborhood is the healthiest. Addtionally, this metric defines the healthiest neighborhood as the one with the most total COVID-19 vaccinations. So, since **Squirrel Hill South** has the most total COVID-19 vaccinations reported, they are the healthiest!"
   ]
  },
  {
   "cell_type": "markdown",
   "metadata": {},
   "source": [
    "Second place goes to Shadyside, and third place goes to Brookline."
   ]
  },
  {
   "cell_type": "markdown",
   "metadata": {},
   "source": [
    "Finally, for the group metric, lets assign each neighborhood a rank using the `.rank()` method. Higher numbers of total vaccinations (healthiest neighborhoods) correspond with a lower rank number. For example, the healthiest neighborhood, Squirrel Hill South, has a rank of 1."
   ]
  },
  {
   "cell_type": "code",
   "execution_count": 12,
   "metadata": {},
   "outputs": [
    {
     "data": {
      "text/html": [
       "<div>\n",
       "<style scoped>\n",
       "    .dataframe tbody tr th:only-of-type {\n",
       "        vertical-align: middle;\n",
       "    }\n",
       "\n",
       "    .dataframe tbody tr th {\n",
       "        vertical-align: top;\n",
       "    }\n",
       "\n",
       "    .dataframe thead th {\n",
       "        text-align: right;\n",
       "    }\n",
       "</style>\n",
       "<table border=\"1\" class=\"dataframe\">\n",
       "  <thead>\n",
       "    <tr style=\"text-align: right;\">\n",
       "      <th></th>\n",
       "      <th>vax_rank</th>\n",
       "    </tr>\n",
       "    <tr>\n",
       "      <th>neighborhood_municipality</th>\n",
       "      <th></th>\n",
       "    </tr>\n",
       "  </thead>\n",
       "  <tbody>\n",
       "    <tr>\n",
       "      <th>Squirrel Hill South (Pittsburgh)</th>\n",
       "      <td>1.0</td>\n",
       "    </tr>\n",
       "    <tr>\n",
       "      <th>Shadyside (Pittsburgh)</th>\n",
       "      <td>2.0</td>\n",
       "    </tr>\n",
       "    <tr>\n",
       "      <th>Brookline (Pittsburgh)</th>\n",
       "      <td>3.0</td>\n",
       "    </tr>\n",
       "    <tr>\n",
       "      <th>Squirrel Hill North (Pittsburgh)</th>\n",
       "      <td>4.0</td>\n",
       "    </tr>\n",
       "    <tr>\n",
       "      <th>Bloomfield (Pittsburgh)</th>\n",
       "      <td>5.0</td>\n",
       "    </tr>\n",
       "    <tr>\n",
       "      <th>...</th>\n",
       "      <td>...</td>\n",
       "    </tr>\n",
       "    <tr>\n",
       "      <th>Esplen (Pittsburgh)</th>\n",
       "      <td>87.0</td>\n",
       "    </tr>\n",
       "    <tr>\n",
       "      <th>St. Clair (Pittsburgh)</th>\n",
       "      <td>88.0</td>\n",
       "    </tr>\n",
       "    <tr>\n",
       "      <th>Arlington Heights (Pittsburgh)</th>\n",
       "      <td>89.0</td>\n",
       "    </tr>\n",
       "    <tr>\n",
       "      <th>Undefined (Pittsburgh)</th>\n",
       "      <td>90.0</td>\n",
       "    </tr>\n",
       "    <tr>\n",
       "      <th>Chateau (Pittsburgh)</th>\n",
       "      <td>91.0</td>\n",
       "    </tr>\n",
       "  </tbody>\n",
       "</table>\n",
       "<p>91 rows × 1 columns</p>\n",
       "</div>"
      ],
      "text/plain": [
       "                                  vax_rank\n",
       "neighborhood_municipality                 \n",
       "Squirrel Hill South (Pittsburgh)       1.0\n",
       "Shadyside (Pittsburgh)                 2.0\n",
       "Brookline (Pittsburgh)                 3.0\n",
       "Squirrel Hill North (Pittsburgh)       4.0\n",
       "Bloomfield (Pittsburgh)                5.0\n",
       "...                                    ...\n",
       "Esplen (Pittsburgh)                   87.0\n",
       "St. Clair (Pittsburgh)                88.0\n",
       "Arlington Heights (Pittsburgh)        89.0\n",
       "Undefined (Pittsburgh)                90.0\n",
       "Chateau (Pittsburgh)                  91.0\n",
       "\n",
       "[91 rows x 1 columns]"
      ]
     },
     "execution_count": 12,
     "metadata": {},
     "output_type": "execute_result"
    }
   ],
   "source": [
    "rank_copy = total_vax.copy()\n",
    "rank_copy['vax_rank']= rank_copy['total_vaccinations'].rank(ascending=False)\n",
    "keepit = rank_copy['vax_rank']\n",
    "rank_data = keepit.dropna()\n",
    "covid_rank= pd.DataFrame(rank_data)\n",
    "rank_sort= covid_rank.sort_values(by=['vax_rank'], ascending=True)\n",
    "rank_sort"
   ]
  },
  {
   "cell_type": "code",
   "execution_count": 14,
   "metadata": {},
   "outputs": [
    {
     "data": {
      "text/html": [
       "<div>\n",
       "<style scoped>\n",
       "    .dataframe tbody tr th:only-of-type {\n",
       "        vertical-align: middle;\n",
       "    }\n",
       "\n",
       "    .dataframe tbody tr th {\n",
       "        vertical-align: top;\n",
       "    }\n",
       "\n",
       "    .dataframe thead th {\n",
       "        text-align: right;\n",
       "    }\n",
       "</style>\n",
       "<table border=\"1\" class=\"dataframe\">\n",
       "  <thead>\n",
       "    <tr style=\"text-align: right;\">\n",
       "      <th></th>\n",
       "      <th>vax_rank</th>\n",
       "    </tr>\n",
       "    <tr>\n",
       "      <th>neighborhood_municipality</th>\n",
       "      <th></th>\n",
       "    </tr>\n",
       "  </thead>\n",
       "  <tbody>\n",
       "    <tr>\n",
       "      <th>Squirrel Hill South (Pittsburgh)</th>\n",
       "      <td>1.0</td>\n",
       "    </tr>\n",
       "    <tr>\n",
       "      <th>Shadyside (Pittsburgh)</th>\n",
       "      <td>2.0</td>\n",
       "    </tr>\n",
       "    <tr>\n",
       "      <th>Brookline (Pittsburgh)</th>\n",
       "      <td>3.0</td>\n",
       "    </tr>\n",
       "    <tr>\n",
       "      <th>Squirrel Hill North (Pittsburgh)</th>\n",
       "      <td>4.0</td>\n",
       "    </tr>\n",
       "    <tr>\n",
       "      <th>Bloomfield (Pittsburgh)</th>\n",
       "      <td>5.0</td>\n",
       "    </tr>\n",
       "    <tr>\n",
       "      <th>Carrick (Pittsburgh)</th>\n",
       "      <td>6.0</td>\n",
       "    </tr>\n",
       "    <tr>\n",
       "      <th>Greenfield (Pittsburgh)</th>\n",
       "      <td>7.0</td>\n",
       "    </tr>\n",
       "    <tr>\n",
       "      <th>Mount Washington (Pittsburgh)</th>\n",
       "      <td>8.0</td>\n",
       "    </tr>\n",
       "    <tr>\n",
       "      <th>Highland Park (Pittsburgh)</th>\n",
       "      <td>9.0</td>\n",
       "    </tr>\n",
       "    <tr>\n",
       "      <th>Southside Flats (Pittsburgh)</th>\n",
       "      <td>10.0</td>\n",
       "    </tr>\n",
       "    <tr>\n",
       "      <th>Beechview (Pittsburgh)</th>\n",
       "      <td>11.0</td>\n",
       "    </tr>\n",
       "    <tr>\n",
       "      <th>Point Breeze (Pittsburgh)</th>\n",
       "      <td>12.0</td>\n",
       "    </tr>\n",
       "    <tr>\n",
       "      <th>North Oakland (Pittsburgh)</th>\n",
       "      <td>13.0</td>\n",
       "    </tr>\n",
       "    <tr>\n",
       "      <th>Brighton Heights (Pittsburgh)</th>\n",
       "      <td>14.0</td>\n",
       "    </tr>\n",
       "    <tr>\n",
       "      <th>East Liberty (Pittsburgh)</th>\n",
       "      <td>15.0</td>\n",
       "    </tr>\n",
       "    <tr>\n",
       "      <th>Central Lawrenceville (Pittsburgh)</th>\n",
       "      <td>16.0</td>\n",
       "    </tr>\n",
       "    <tr>\n",
       "      <th>Central Business District (Pittsburgh)</th>\n",
       "      <td>17.0</td>\n",
       "    </tr>\n",
       "    <tr>\n",
       "      <th>Stanton Heights (Pittsburgh)</th>\n",
       "      <td>18.0</td>\n",
       "    </tr>\n",
       "    <tr>\n",
       "      <th>Banksville (Pittsburgh)</th>\n",
       "      <td>19.0</td>\n",
       "    </tr>\n",
       "    <tr>\n",
       "      <th>Sheraden (Pittsburgh)</th>\n",
       "      <td>20.0</td>\n",
       "    </tr>\n",
       "  </tbody>\n",
       "</table>\n",
       "</div>"
      ],
      "text/plain": [
       "                                        vax_rank\n",
       "neighborhood_municipality                       \n",
       "Squirrel Hill South (Pittsburgh)             1.0\n",
       "Shadyside (Pittsburgh)                       2.0\n",
       "Brookline (Pittsburgh)                       3.0\n",
       "Squirrel Hill North (Pittsburgh)             4.0\n",
       "Bloomfield (Pittsburgh)                      5.0\n",
       "Carrick (Pittsburgh)                         6.0\n",
       "Greenfield (Pittsburgh)                      7.0\n",
       "Mount Washington (Pittsburgh)                8.0\n",
       "Highland Park (Pittsburgh)                   9.0\n",
       "Southside Flats (Pittsburgh)                10.0\n",
       "Beechview (Pittsburgh)                      11.0\n",
       "Point Breeze (Pittsburgh)                   12.0\n",
       "North Oakland (Pittsburgh)                  13.0\n",
       "Brighton Heights (Pittsburgh)               14.0\n",
       "East Liberty (Pittsburgh)                   15.0\n",
       "Central Lawrenceville (Pittsburgh)          16.0\n",
       "Central Business District (Pittsburgh)      17.0\n",
       "Stanton Heights (Pittsburgh)                18.0\n",
       "Banksville (Pittsburgh)                     19.0\n",
       "Sheraden (Pittsburgh)                       20.0"
      ]
     },
     "execution_count": 14,
     "metadata": {},
     "output_type": "execute_result"
    }
   ],
   "source": [
    "rank_sort.head(20)"
   ]
  },
  {
   "cell_type": "code",
   "execution_count": null,
   "metadata": {},
   "outputs": [],
   "source": []
  }
 ],
 "metadata": {
  "kernelspec": {
   "display_name": "Python 3",
   "language": "python",
   "name": "python3"
  },
  "language_info": {
   "codemirror_mode": {
    "name": "ipython",
    "version": 3
   },
   "file_extension": ".py",
   "mimetype": "text/x-python",
   "name": "python",
   "nbconvert_exporter": "python",
   "pygments_lexer": "ipython3",
   "version": "3.8.3"
  }
 },
 "nbformat": 4,
 "nbformat_minor": 4
}
